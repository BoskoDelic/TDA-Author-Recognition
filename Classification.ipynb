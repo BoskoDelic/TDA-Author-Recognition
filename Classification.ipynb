{
 "cells": [
  {
   "cell_type": "code",
   "execution_count": 22,
   "id": "34582ecd",
   "metadata": {},
   "outputs": [],
   "source": [
    "import os\n",
    "from random import sample\n",
    "\n",
    "import pandas as pd\n",
    "import numpy as np\n",
    "from itertools import combinations\n",
    "from pprint import pprint as print\n",
    "\n",
    "from ripser import Rips\n",
    "from gudhi.hera import wasserstein_distance\n",
    "import gudhi\n",
    "\n",
    "from sklearn.neighbors import KNeighborsClassifier\n",
    "from sklearn.model_selection import train_test_split\n",
    "from sklearn.metrics import accuracy_score\n",
    "from sklearn.model_selection import cross_val_score"
   ]
  },
  {
   "cell_type": "code",
   "execution_count": 23,
   "id": "895ab058",
   "metadata": {},
   "outputs": [],
   "source": [
    "import warnings\n",
    "warnings.filterwarnings(\"ignore\")"
   ]
  },
  {
   "cell_type": "code",
   "execution_count": 24,
   "id": "8267e705",
   "metadata": {},
   "outputs": [],
   "source": [
    "def create_rips(distance_file):\n",
    "    distances = pd.read_csv(\"distances/\" + distance_file, index_col=0)\n",
    "    distances = distances.to_numpy()\n",
    "    rips_complex = gudhi.RipsComplex(distance_matrix=distances)\n",
    "    simplex_tree = rips_complex.create_simplex_tree(max_dimension=2)\n",
    "\n",
    "    diag = simplex_tree.persistence()\n",
    "    \n",
    "    components = []\n",
    "    loops = []\n",
    "    \n",
    "    for d in diag:\n",
    "        if d[0] == 0:\n",
    "            components.append(d[1])\n",
    "        elif d[0] == 1:\n",
    "            loops.append(d[1])\n",
    "            \n",
    "    components_matrix = []\n",
    "    for comp in components:\n",
    "        if comp[1] == float(\"inf\"):\n",
    "            components_matrix.append([comp[0], 1])\n",
    "        else:\n",
    "            components_matrix.append([comp[0], comp[1]])\n",
    "            \n",
    "    loops_matrix = []\n",
    "    for loop in loops:\n",
    "        if loop[1] == float(\"inf\"):\n",
    "            loops_matrix.append([loop[0], 1])\n",
    "        else:\n",
    "            loops_matrix.append([loop[0], loop[1]])\n",
    "\n",
    "    return [components_matrix, loops_matrix]"
   ]
  },
  {
   "cell_type": "code",
   "execution_count": 25,
   "id": "ccc8af07",
   "metadata": {},
   "outputs": [],
   "source": [
    "directory = \"distances\"\n",
    "book_t0 = []\n",
    "book_tminus = []\n",
    "book_tplus = []\n",
    "authors_novels = {}\n",
    "novel_names = []\n",
    "\n",
    "for filename in os.listdir(directory):\n",
    "    if filename.endswith(\"_tminus1.csv\"):\n",
    "        book_tminus.append(filename)\n",
    "    elif filename.endswith(\"_t0.csv\"):\n",
    "        book_t0.append(filename)\n",
    "        tmp = filename.split(\"_\")\n",
    "        if tmp[0] not in authors_novels:\n",
    "            authors_novels[tmp[0]] = set()\n",
    "            authors_novels[tmp[0]].add(tmp[1])\n",
    "        else:\n",
    "            authors_novels[tmp[0]].add(tmp[1])\n",
    "        novel_names.append(tmp[1])\n",
    "    elif filename.endswith(\"_tplus1.csv\"):\n",
    "        book_tplus.append(filename)"
   ]
  },
  {
   "cell_type": "code",
   "execution_count": 26,
   "id": "b524fcb6",
   "metadata": {},
   "outputs": [
    {
     "name": "stdout",
     "output_type": "stream",
     "text": [
      "Rips(maxdim=1, thresh=inf, coeff=2, do_cocycles=False, n_perm = None, verbose=True)\n"
     ]
    }
   ],
   "source": [
    "rips_tminus = []\n",
    "rips_t0 = []\n",
    "rips_tplus = []\n",
    "rips = Rips()\n",
    "\n",
    "# Calculate rips diagrams for every distance matrix\n",
    "for i in range(0, len(book_t0)):\n",
    "    rips_tminus.append(create_rips(book_tminus[i]))\n",
    "    rips_t0.append(create_rips(book_t0[i])) \n",
    "    rips_tplus.append(create_rips(book_tplus[i]))"
   ]
  },
  {
   "cell_type": "code",
   "execution_count": 27,
   "id": "233a5f80",
   "metadata": {},
   "outputs": [],
   "source": [
    "# Make a distance matrix between all pairs of novels \n",
    "dist_novels = pd.DataFrame(index=novel_names, columns=novel_names)\n",
    "for i in range(0, len(novel_names)):\n",
    "    for j in range(i + 1, len(novel_names)):\n",
    "\n",
    "        diag0_components = np.array(rips_tminus[i][0])\n",
    "        diag1_components = np.array(rips_tminus[j][0])\n",
    "        diag0_loops = np.array(rips_tminus[i][1])\n",
    "        diag1_loops = np.array(rips_tminus[j][1])\n",
    "        tminus = wasserstein_distance(diag0_components, diag1_components, order=1.0) + wasserstein_distance(diag0_loops, diag1_loops, order=1.0)\n",
    "\n",
    "        diag0_components = np.array(rips_t0[i][0])\n",
    "        diag1_components = np.array(rips_t0[j][0])\n",
    "        diag0_loops = np.array(rips_t0[i][1])\n",
    "        diag1_loops = np.array(rips_t0[j][1])\n",
    "        t0 = wasserstein_distance(diag0_components, diag1_components, order=1.0) + wasserstein_distance(diag0_loops, diag1_loops, order=1.0)\n",
    "        \n",
    "        diag0_components = np.array(rips_tplus[i][0])\n",
    "        diag1_components = np.array(rips_tplus[j][0])\n",
    "        diag0_loops = np.array(rips_tplus[i][1])\n",
    "        diag1_loops = np.array(rips_tplus[j][1])\n",
    "        tplus = wasserstein_distance(diag0_components, diag1_components, order=1.0) + wasserstein_distance(diag0_loops, diag1_loops, order=1.0)\n",
    "\n",
    "        dist_novels.at[novel_names[i], novel_names[j]] = t0 ** 2 + tminus ** 2 + tplus ** 2\n",
    "        dist_novels.at[novel_names[j], novel_names[i]] = dist_novels.at[novel_names[i], novel_names[j]]\n",
    "\n",
    "for i in range(0, len(novel_names)):\n",
    "    dist_novels.at[novel_names[i], novel_names[i]] = 0"
   ]
  },
  {
   "cell_type": "code",
   "execution_count": 28,
   "id": "0323bac6",
   "metadata": {},
   "outputs": [],
   "source": [
    "authors = list(authors_novels.keys())\n",
    "authors_acc = pd.DataFrame(index=authors, columns=authors)"
   ]
  },
  {
   "cell_type": "code",
   "execution_count": 29,
   "id": "6bbab25a",
   "metadata": {},
   "outputs": [],
   "source": [
    "def binary_knn_cross_validation(distance_matrix, authors, n_neighbors, n_splits):\n",
    "    precision_scores = []\n",
    "    \n",
    "    # Create the KNN classifier\n",
    "    knn = KNeighborsClassifier(n_neighbors=n_neighbors)\n",
    "\n",
    "    for i in range(0, len(authors) - 1):\n",
    "            for j in range(i + 1, len(authors)):\n",
    "\n",
    "                # Take equal number of novels of both authors by sampling novels of the author who has more novels\n",
    "                a1 = list(authors_novels[authors[i]])\n",
    "                a2 = list(authors_novels[authors[j]])\n",
    "\n",
    "                for k in range(0, 5):\n",
    "                    if len(a1) > len(a2):\n",
    "                        a1 = sample(a1, len(a2))\n",
    "                    elif len(a1) < len(a2):\n",
    "                        a2 = sample(a2, len(a1))\n",
    "                    novel_list = a1 + a2 \n",
    "\n",
    "                    subset_distance_matrix = dist_novels[novel_list].loc[novel_list]\n",
    "                    subset_authors = np.concatenate(([authors[i]] * len(a1), [authors[j]] * len(a2)))[:, np.newaxis]\n",
    " \n",
    "                    # Create the KNN classifier\n",
    "                    knn = KNeighborsClassifier(n_neighbors=n_neighbors)\n",
    "\n",
    "                    # Perform N-fold cross-validation\n",
    "                    scores = cross_val_score(knn, subset_distance_matrix, subset_authors, cv=n_splits)\n",
    "\n",
    "                    # Calculate precision and store the score\n",
    "                    precision = np.mean(scores)\n",
    "                    precision_scores.append(precision)\n",
    "\n",
    "                average_precision = np.mean(precision_scores)\n",
    "                authors_acc.at[authors[i], authors[j]] = authors_acc.at[authors[j], authors[i]] = average_precision\n",
    "                \n",
    "    for i in range(0, len(authors)):\n",
    "            authors_acc.at[authors[i], authors[i]] = 1            \n",
    "    \n",
    "    return authors_acc"
   ]
  },
  {
   "cell_type": "code",
   "execution_count": 30,
   "id": "6e51580e",
   "metadata": {},
   "outputs": [],
   "source": [
    "for n_neighbours in range(3, 6):\n",
    "    for n_folds in range(2, 6):\n",
    "        acc = binary_knn_cross_validation(dist_novels, authors, n_neighbours, n_folds)\n",
    "        acc.to_csv(\"accuracy/\" + str(n_neighbours) + \"_neighbours_\" + str(n_folds) + \"_folds.csv\")"
   ]
  }
 ],
 "metadata": {
  "kernelspec": {
   "display_name": "Python 3 (ipykernel)",
   "language": "python",
   "name": "python3"
  },
  "language_info": {
   "codemirror_mode": {
    "name": "ipython",
    "version": 3
   },
   "file_extension": ".py",
   "mimetype": "text/x-python",
   "name": "python",
   "nbconvert_exporter": "python",
   "pygments_lexer": "ipython3",
   "version": "3.11.1"
  }
 },
 "nbformat": 4,
 "nbformat_minor": 5
}
