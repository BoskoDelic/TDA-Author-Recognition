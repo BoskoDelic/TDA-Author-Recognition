{
 "cells": [
  {
   "cell_type": "code",
   "execution_count": 1,
   "id": "26216d18",
   "metadata": {},
   "outputs": [],
   "source": [
    "import numpy as np\n",
    "import pandas as pd\n",
    "import gudhi\n",
    "import matplotlib.pyplot as plt\n",
    "from pprint import pprint as print\n",
    "import os"
   ]
  },
  {
   "cell_type": "code",
   "execution_count": 2,
   "id": "29b82a48",
   "metadata": {},
   "outputs": [],
   "source": [
    "folder_path = './books/'\n",
    "\n",
    "for filename in os.listdir(folder_path):\n",
    "    file_path = os.path.join(folder_path, filename)\n",
    "    if os.path.isfile(file_path):\n",
    "        #remove .txt\n",
    "        book = filename[:-4]\n",
    "        \n",
    "        #continue if the diagram was previously drawn\n",
    "        if (os.path.exists(f\"persistence diagrams/{book}_t0.png\")):\n",
    "            continue\n",
    "        \n",
    "        data_t0 = pd.read_csv('distances/' + f'{book}_t0.csv')\n",
    "        data_t0 = np.array(data_t0)\n",
    "\n",
    "        data_t1 = pd.read_csv('distances/' + f'{book}_tplus1.csv')\n",
    "        data_t1 = np.array(data_t1)\n",
    "\n",
    "        data_tminus1 = pd.read_csv('distances/' + f'{book}_tminus1.csv')\n",
    "        data_tminus1 = np.array(data_tminus1)\n",
    "\n",
    "        #drop the first row with character names\n",
    "        data_t0 = data_t0[:, 1:]\n",
    "        data_t1 = data_t1[:, 1:]\n",
    "        data_tminus1 = data_tminus1[:, 1:]\n",
    "\n",
    "        rips_complex = gudhi.RipsComplex(distance_matrix = data_t0)\n",
    "        simplex_tree = rips_complex.create_simplex_tree(max_dimension=2)\n",
    "        diag = simplex_tree.persistence()\n",
    "        ax_t0 = gudhi.plot_persistence_diagram(diag)\n",
    "        ax_t0.set_title(f'{book}_t0')\n",
    "        plt.savefig('persistence diagrams/' + f'{book}_t0' + \".png\")\n",
    "\n",
    "        rips_complex = gudhi.RipsComplex(distance_matrix = data_t1)\n",
    "        simplex_tree = rips_complex.create_simplex_tree(max_dimension=2)\n",
    "        diag = simplex_tree.persistence()\n",
    "        ax_t1 = gudhi.plot_persistence_diagram(diag)\n",
    "        ax_t1.set_title(f'{book}_tplus1')\n",
    "        plt.savefig('persistence diagrams/' + f'{book}_tplus1' + \".png\")\n",
    "\n",
    "        rips_complex = gudhi.RipsComplex(distance_matrix = data_tminus1)\n",
    "        simplex_tree = rips_complex.create_simplex_tree(max_dimension=2)\n",
    "        diag = simplex_tree.persistence()\n",
    "        ax_tminus1 = gudhi.plot_persistence_diagram(diag)\n",
    "        ax_tminus1.set_title(f'{book}_tminus1')\n",
    "        plt.savefig('persistence diagrams/' + f'{book}_tminus1' + \".png\")"
   ]
  },
  {
   "cell_type": "code",
   "execution_count": null,
   "id": "869e143a",
   "metadata": {},
   "outputs": [],
   "source": []
  }
 ],
 "metadata": {
  "kernelspec": {
   "display_name": "Python 3 (ipykernel)",
   "language": "python",
   "name": "python3"
  },
  "language_info": {
   "codemirror_mode": {
    "name": "ipython",
    "version": 3
   },
   "file_extension": ".py",
   "mimetype": "text/x-python",
   "name": "python",
   "nbconvert_exporter": "python",
   "pygments_lexer": "ipython3",
   "version": "3.10.6"
  }
 },
 "nbformat": 4,
 "nbformat_minor": 5
}
