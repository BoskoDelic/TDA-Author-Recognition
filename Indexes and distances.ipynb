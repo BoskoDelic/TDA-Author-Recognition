{
 "cells": [
  {
   "cell_type": "code",
   "execution_count": 1,
   "id": "8a5f15cb",
   "metadata": {
    "scrolled": false
   },
   "outputs": [],
   "source": [
    "import spacy\n",
    "import yaml\n",
    "import csv\n",
    "from pprint import pprint as print\n",
    "from scipy.stats import wasserstein_distance\n",
    "import numpy as np\n",
    "import copy\n",
    "import pandas as pd\n",
    "\n",
    "nlp = spacy.load(\"en_core_web_sm\")\n",
    "#spacy.explain('GPE') explains spacy abbreviations"
   ]
  },
  {
   "cell_type": "code",
   "execution_count": 2,
   "id": "5c1e0cbd",
   "metadata": {},
   "outputs": [],
   "source": [
    "def add_to_dict(doc, dict):\n",
    "    for ent in doc.ents:\n",
    "        #print(ent.text, ent.start_char, ent.end_char, ent.label_)\n",
    "        name = ent.text\n",
    "        label = ent.label_\n",
    "        position = ent.start_char\n",
    "    \n",
    "        if label != 'PERSON':\n",
    "            continue\n",
    "    \n",
    "        if ent.text not in dict:\n",
    "            dict[name] = [position]\n",
    "        else:\n",
    "            dict[name].append(position)\n",
    "            \n",
    "    return dict"
   ]
  },
  {
   "cell_type": "code",
   "execution_count": 3,
   "id": "574b0e3f",
   "metadata": {},
   "outputs": [],
   "source": [
    "def load_data(doc):\n",
    "    with open(doc) as f:\n",
    "        data = f.read()\n",
    "        \n",
    "    midpoint = len(data) // 2\n",
    "    first_half = data[:midpoint]\n",
    "    second_half = data[midpoint:]\n",
    "    \n",
    "    doc1 = nlp(first_half)\n",
    "    doc2 = nlp(second_half)\n",
    "    \n",
    "    return (doc1, doc2)"
   ]
  },
  {
   "cell_type": "code",
   "execution_count": 28,
   "id": "76cf692b",
   "metadata": {},
   "outputs": [],
   "source": [
    "def save_indexes(book, dict):\n",
    "    with open(f'indexes/{book}.csv', 'w') as f:\n",
    "        for key in dict.keys():\n",
    "            value = dict[key]\n",
    "            if (value.startswith('[')):\n",
    "                value = value[1:]\n",
    "            elif (value.endswith(']')):\n",
    "                value = value[:-1]\n",
    "            f.write(\"%s, %s\\n\" % (key, value))"
   ]
  },
  {
   "cell_type": "code",
   "execution_count": 10,
   "id": "8bdad022",
   "metadata": {},
   "outputs": [],
   "source": [
    "def distance(character1, character2, novel_length, t):\n",
    "    character1 = copy.deepcopy(character1)\n",
    "    character2 = copy.deepcopy(character2)\n",
    "\n",
    "    if len(character1) < len(character2):\n",
    "        tmp = character1\n",
    "        character1 = character2\n",
    "        character2 = tmp\n",
    "\n",
    "    character1new = []\n",
    "    used_list = []\n",
    "\n",
    "    j_nearest = None\n",
    "\n",
    "    # Find a subset of appearances of the first character so that the first character is as close as possible to the\n",
    "    # second character\n",
    "    for i in range(len(character2)):\n",
    "        min_distance = float('inf')\n",
    "        for j in range(len(character1)):\n",
    "            curr_distance = abs(character1[j] - character2[i])\n",
    "            if curr_distance < min_distance and j not in used_list:\n",
    "                min_distance = curr_distance\n",
    "                j_nearest = j\n",
    "        character1new.append(character1[j_nearest])\n",
    "        used_list.append(j_nearest)\n",
    "\n",
    "    character1new.sort()\n",
    "\n",
    "    for i in range(len(character1new)):\n",
    "        character1new[i] /= novel_length\n",
    "        character2[i] /= novel_length\n",
    "\n",
    "    for i in range(len(character1new)):\n",
    "        character1new[i] **= (1+t)\n",
    "\n",
    "    for i in range(len(character1new)):\n",
    "        character2[i] **= (1+t)\n",
    "\n",
    "    return wasserstein_distance(character1new, character2)"
   ]
  },
  {
   "cell_type": "code",
   "execution_count": 11,
   "id": "c1143f53",
   "metadata": {},
   "outputs": [],
   "source": [
    "def save_distances(book, distances_t0, distances_tplus1, distances_tminus1, characters):\n",
    "    distances_t0 = pd.DataFrame(distances_t0, index=characters, columns=characters)\n",
    "    distances_tminus1 = pd.DataFrame(distances_tminus1, index=characters, columns=characters)\n",
    "    distances_tplus1 = pd.DataFrame(distances_tplus1, index=characters, columns=characters)\n",
    "    distances_t0.to_csv(\"distances/\" + book + \"_t0.csv\")\n",
    "    distances_tminus1.to_csv(\"distances/\" + book + \"_tminus1.csv\")\n",
    "    distances_tplus1.to_csv(\"distances/\" + book + \"_tplus1.csv\")"
   ]
  },
  {
   "cell_type": "code",
   "execution_count": 20,
   "id": "3c1faa46",
   "metadata": {},
   "outputs": [],
   "source": [
    "dict = {}\n",
    "\n",
    "book = 'TheBrothersKaramazov'\n",
    "(doc1, doc2) = load_data('books/' + book + '.txt')\n",
    "dict = add_to_dict(doc1, dict)\n",
    "dict = add_to_dict(doc2, dict)"
   ]
  },
  {
   "cell_type": "code",
   "execution_count": 24,
   "id": "fe370739",
   "metadata": {},
   "outputs": [],
   "source": [
    "#CONVERTS TO LIST!\n",
    "most_common_names = sorted(dict.items(), key=lambda x: len(x[1]), reverse=True)\n",
    "most_common_names = most_common_names[0:10]\n",
    "\n",
    "names_dict = {}\n",
    "for item in most_common_names:\n",
    "    names_dict[item[0]] = item[1]"
   ]
  },
  {
   "cell_type": "code",
   "execution_count": 52,
   "id": "ac80563e",
   "metadata": {},
   "outputs": [
    {
     "ename": "AttributeError",
     "evalue": "'list' object has no attribute 'startswith'",
     "output_type": "error",
     "traceback": [
      "\u001b[0;31m---------------------------------------------------------------------------\u001b[0m",
      "\u001b[0;31mAttributeError\u001b[0m                            Traceback (most recent call last)",
      "Cell \u001b[0;32mIn[52], line 1\u001b[0m\n\u001b[0;32m----> 1\u001b[0m \u001b[43msave_indexes\u001b[49m\u001b[43m(\u001b[49m\u001b[43mbook\u001b[49m\u001b[43m,\u001b[49m\u001b[43m \u001b[49m\u001b[43mnames_dict\u001b[49m\u001b[43m)\u001b[49m\n",
      "Cell \u001b[0;32mIn[28], line 5\u001b[0m, in \u001b[0;36msave_indexes\u001b[0;34m(book, dict)\u001b[0m\n\u001b[1;32m      3\u001b[0m \u001b[38;5;28;01mfor\u001b[39;00m key \u001b[38;5;129;01min\u001b[39;00m \u001b[38;5;28mdict\u001b[39m\u001b[38;5;241m.\u001b[39mkeys():\n\u001b[1;32m      4\u001b[0m     value \u001b[38;5;241m=\u001b[39m \u001b[38;5;28mdict\u001b[39m[key]\n\u001b[0;32m----> 5\u001b[0m     \u001b[38;5;28;01mif\u001b[39;00m (\u001b[43mvalue\u001b[49m\u001b[38;5;241;43m.\u001b[39;49m\u001b[43mstartswith\u001b[49m(\u001b[38;5;124m'\u001b[39m\u001b[38;5;124m[\u001b[39m\u001b[38;5;124m'\u001b[39m)):\n\u001b[1;32m      6\u001b[0m         value \u001b[38;5;241m=\u001b[39m value[\u001b[38;5;241m1\u001b[39m:]\n\u001b[1;32m      7\u001b[0m     \u001b[38;5;28;01melif\u001b[39;00m (value\u001b[38;5;241m.\u001b[39mendswith(\u001b[38;5;124m'\u001b[39m\u001b[38;5;124m]\u001b[39m\u001b[38;5;124m'\u001b[39m)):\n",
      "\u001b[0;31mAttributeError\u001b[0m: 'list' object has no attribute 'startswith'"
     ]
    }
   ],
   "source": [
    "save_indexes(book, names_dict)"
   ]
  },
  {
   "cell_type": "code",
   "execution_count": 32,
   "id": "ea8096e0",
   "metadata": {},
   "outputs": [],
   "source": [
    "distances_t0 = np.zeros((10, 10))\n",
    "distances_tminus1 = np.zeros((10, 10))\n",
    "distances_tplus1 = np.zeros((10, 10))"
   ]
  },
  {
   "cell_type": "code",
   "execution_count": 11,
   "id": "9187a2b2",
   "metadata": {},
   "outputs": [],
   "source": [
    "characters = list(names_dict.keys())\n",
    "novel_length = len(doc1) + len(doc2)\n",
    "appearances = list(names_dict.values())"
   ]
  },
  {
   "cell_type": "code",
   "execution_count": 12,
   "id": "c4cf0ee9",
   "metadata": {},
   "outputs": [],
   "source": [
    "for i in range(9):\n",
    "    for j in range(i+1, 10):\n",
    "            distances_t0[i][j] = distance(appearances[i], appearances[j], novel_length, 0)\n",
    "            distances_tminus1[i][j] = distance(appearances[i], appearances[j], novel_length, -0.1)\n",
    "            distances_tplus1[i][j] = distance(appearances[i], appearances[j], novel_length, 0.1)\n",
    "            distances_t0[j][i] = distances_t0[i][j]\n",
    "            distances_tminus1[j][i] = distances_tminus1[i][j]\n",
    "            distances_tplus1[j][i] = distances_tplus1[i][j]"
   ]
  },
  {
   "cell_type": "code",
   "execution_count": 13,
   "id": "cc1c7c27",
   "metadata": {},
   "outputs": [],
   "source": [
    "save_distances(book, distances_t0, distances_tplus1, distances_tminus1, characters)"
   ]
  },
  {
   "cell_type": "code",
   "execution_count": null,
   "id": "f1d7732d",
   "metadata": {},
   "outputs": [],
   "source": []
  }
 ],
 "metadata": {
  "kernelspec": {
   "display_name": "Python 3 (ipykernel)",
   "language": "python",
   "name": "python3"
  },
  "language_info": {
   "codemirror_mode": {
    "name": "ipython",
    "version": 3
   },
   "file_extension": ".py",
   "mimetype": "text/x-python",
   "name": "python",
   "nbconvert_exporter": "python",
   "pygments_lexer": "ipython3",
   "version": "3.10.6"
  }
 },
 "nbformat": 4,
 "nbformat_minor": 5
}
