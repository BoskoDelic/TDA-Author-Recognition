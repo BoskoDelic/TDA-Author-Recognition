{
 "cells": [
  {
   "cell_type": "code",
   "execution_count": 26,
   "id": "8a5f15cb",
   "metadata": {
    "scrolled": false
   },
   "outputs": [],
   "source": [
    "import spacy\n",
    "import yaml\n",
    "import csv\n",
    "from pprint import pprint as print\n",
    "from scipy.stats import wasserstein_distance\n",
    "import numpy as np\n",
    "import copy\n",
    "import pandas as pd\n",
    "import os\n",
    "\n",
    "nlp = spacy.load(\"en_core_web_sm\")\n",
    "#spacy.explain('GPE') explains spacy abbreviations"
   ]
  },
  {
   "cell_type": "code",
   "execution_count": 27,
   "id": "5c1e0cbd",
   "metadata": {},
   "outputs": [],
   "source": [
    "def add_to_dict(doc, dict):\n",
    "    for ent in doc.ents:\n",
    "        #print(ent.text, ent.start_char, ent.end_char, ent.label_)\n",
    "        name = ent.text\n",
    "        label = ent.label_\n",
    "        position = ent.start_char\n",
    "    \n",
    "        if label != 'PERSON':\n",
    "            continue\n",
    "    \n",
    "        if ent.text not in dict:\n",
    "            dict[name] = [position]\n",
    "        else:\n",
    "            dict[name].append(position)\n",
    "            \n",
    "    return dict"
   ]
  },
  {
   "cell_type": "code",
   "execution_count": 28,
   "id": "574b0e3f",
   "metadata": {},
   "outputs": [],
   "source": [
    "def load_data(doc):\n",
    "    with open(doc) as f:\n",
    "        data = f.read()\n",
    "    \n",
    "    #split data in half to fit spacy capacity\n",
    "    midpoint = len(data) // 2\n",
    "    first_half = data[:midpoint]\n",
    "    second_half = data[midpoint:]\n",
    "    \n",
    "    doc1 = nlp(first_half)\n",
    "    doc2 = nlp(second_half)\n",
    "    \n",
    "    return doc1, doc2"
   ]
  },
  {
   "cell_type": "code",
   "execution_count": 29,
   "id": "350cc0eb",
   "metadata": {},
   "outputs": [],
   "source": [
    "def get_most_common_names(dict):\n",
    "    #CONVERTS TO LIST!\n",
    "    most_common_names = sorted(dict.items(), key=lambda x: len(x[1]), reverse=True)\n",
    "    most_common_names = most_common_names[0:10]\n",
    "\n",
    "    #convert back to dict\n",
    "    names_dict = {}\n",
    "    for item in most_common_names:\n",
    "        names_dict[item[0]] = item[1]\n",
    "        \n",
    "    return names_dict"
   ]
  },
  {
   "cell_type": "code",
   "execution_count": 30,
   "id": "76cf692b",
   "metadata": {},
   "outputs": [],
   "source": [
    "def save_indexes(book, dict):\n",
    "    with open(f'./indexes/{book}.csv', 'w') as f:\n",
    "        for key in dict.keys():\n",
    "            f.write(\"%s, %s\\n\" % (key, dict[key]))"
   ]
  },
  {
   "cell_type": "code",
   "execution_count": 35,
   "id": "8bdad022",
   "metadata": {},
   "outputs": [],
   "source": [
    "#TODO: REFACTOR?\n",
    "def distance(character1, character2, novel_length, t):\n",
    "    character1_cpy = copy.deepcopy(character1)\n",
    "    character2_cpy = copy.deepcopy(character2)\n",
    "\n",
    "    if len(character1_cpy) < len(character2_cpy):\n",
    "        character1_cpy, character2_cpy = character2_cpy, character1_cpy\n",
    "\n",
    "    character1new = []\n",
    "    used_list = []\n",
    "\n",
    "    j_nearest = None\n",
    "\n",
    "    for i in range(len(character2_cpy)):\n",
    "        min_distance = float('inf')\n",
    "        for j in range(len(character1_cpy)):\n",
    "            curr_distance = abs(character1_cpy[j] - character2_cpy[i])\n",
    "            if curr_distance < min_distance and j not in used_list:\n",
    "                min_distance = curr_distance\n",
    "                j_nearest = j\n",
    "        character1new.append(character1_cpy[j_nearest])\n",
    "        used_list.append(j_nearest)\n",
    "\n",
    "    character1new.sort()\n",
    "\n",
    "    n = len(character1new)\n",
    "    \n",
    "    #normalize both vectors\n",
    "    for i in range(n):\n",
    "        character1new[i] /= novel_length\n",
    "        character2_cpy[i] /= novel_length\n",
    "\n",
    "    for i in range(n):\n",
    "        character1new[i] **= (1+t)\n",
    "        character2_cpy[i] **= (1+t)\n",
    "\n",
    "    return wasserstein_distance(character1new, character2_cpy)"
   ]
  },
  {
   "cell_type": "code",
   "execution_count": 32,
   "id": "6189ff34",
   "metadata": {},
   "outputs": [],
   "source": [
    "def calculate_distances(appearances, novel_length):\n",
    "    distances_t0 = np.zeros((10, 10))\n",
    "    distances_tminus = np.zeros((10, 10))\n",
    "    distances_tplus = np.zeros((10, 10))\n",
    "    \n",
    "    #TODO: distance matrix is symmetrical, optimize\n",
    "    for i in range(10):\n",
    "        for j in range(10):\n",
    "            distances_t0[i][j] = distance(appearances[i], appearances[j], novel_length, 0)\n",
    "            distances_tminus[i][j] = distance(appearances[i], appearances[j], novel_length, -0.1)\n",
    "            distances_tplus[i][j] = distance(appearances[i], appearances[j], novel_length, 0.1)\n",
    "            \n",
    "    return distances_t0, distances_tminus, distances_tplus"
   ]
  },
  {
   "cell_type": "code",
   "execution_count": 33,
   "id": "c1143f53",
   "metadata": {},
   "outputs": [],
   "source": [
    "def save_distances(book, distances_t0, distances_tplus, distances_tminus, characters):\n",
    "    distances_t0 = pd.DataFrame(distances_t0, index=characters, columns=characters)\n",
    "    distances_tminus = pd.DataFrame(distances_tminus, index=characters, columns=characters)\n",
    "    distances_tplus = pd.DataFrame(distances_tplus, index=characters, columns=characters)\n",
    "    distances_t0.to_csv(\"./distances/\" + book + \"_t0.csv\")\n",
    "    distances_tminus.to_csv(\"./distances/\" + book + \"_tminus1.csv\")\n",
    "    distances_tplus.to_csv(\"./distances/\" + book + \"_tplus1.csv\")"
   ]
  },
  {
   "cell_type": "code",
   "execution_count": 37,
   "id": "3c1faa46",
   "metadata": {},
   "outputs": [],
   "source": [
    "folder_path = './books/'\n",
    "\n",
    "for filename in os.listdir(folder_path):\n",
    "    file_path = os.path.join(folder_path, filename)\n",
    "    if os.path.isfile(file_path):\n",
    "        with open(file_path, 'r') as f:\n",
    "            dict = {}\n",
    "            \n",
    "            #remove .txt\n",
    "            book = filename[:-4]\n",
    "            \n",
    "            #continue if the book was processed\n",
    "            if (os.path.exists(f\"./indexes/{book}.csv\")):\n",
    "                continue\n",
    "            \n",
    "            (doc1, doc2) = load_data(file_path)\n",
    "            dict = add_to_dict(doc1, dict)\n",
    "            dict = add_to_dict(doc2, dict)\n",
    "            \n",
    "            names_dict = get_most_common_names(dict)\n",
    "            save_indexes(book, names_dict)\n",
    "            \n",
    "            characters = list(names_dict.keys())\n",
    "            novel_length = len(doc1) + len(doc2)\n",
    "            appearances = list(names_dict.values())\n",
    "\n",
    "            distances_t0, distances_tminus, distances_tplus = calculate_distances(appearances, novel_length)\n",
    "            save_distances(book, distances_t0, distances_tplus, distances_tminus, characters)"
   ]
  },
  {
   "cell_type": "code",
   "execution_count": null,
   "id": "0ff792b6",
   "metadata": {},
   "outputs": [],
   "source": []
  }
 ],
 "metadata": {
  "kernelspec": {
   "display_name": "Python 3 (ipykernel)",
   "language": "python",
   "name": "python3"
  },
  "language_info": {
   "codemirror_mode": {
    "name": "ipython",
    "version": 3
   },
   "file_extension": ".py",
   "mimetype": "text/x-python",
   "name": "python",
   "nbconvert_exporter": "python",
   "pygments_lexer": "ipython3",
   "version": "3.10.6"
  }
 },
 "nbformat": 4,
 "nbformat_minor": 5
}
